{
 "cells": [
  {
   "cell_type": "markdown",
   "id": "25d7736c-ba17-4aff-b6bb-66eba20fbf4e",
   "metadata": {
    "id": "25d7736c-ba17-4aff-b6bb-66eba20fbf4e"
   },
   "source": [
    "# Lab | Data Structuring and Combining Data"
   ]
  },
  {
   "cell_type": "markdown",
   "id": "a2cdfc70-44c8-478c-81e7-2bc43fdf4986",
   "metadata": {
    "id": "a2cdfc70-44c8-478c-81e7-2bc43fdf4986"
   },
   "source": [
    "## Challenge 1: Combining & Cleaning Data\n",
    "\n",
    "In this challenge, we will be working with the customer data from an insurance company, as we did in the two previous labs. The data can be found here:\n",
    "- https://raw.githubusercontent.com/data-bootcamp-v4/data/main/file1.csv\n",
    "\n",
    "But this time, we got new data, which can be found in the following 2 CSV files located at the links below.\n",
    "\n",
    "- https://raw.githubusercontent.com/data-bootcamp-v4/data/main/file2.csv\n",
    "- https://raw.githubusercontent.com/data-bootcamp-v4/data/main/file3.csv\n",
    "\n",
    "Note that you'll need to clean and format the new data.\n",
    "\n",
    "Observation:\n",
    "- One option is to first combine the three datasets and then apply the cleaning function to the new combined dataset\n",
    "- Another option would be to read the clean file you saved in the previous lab, and just clean the two new files and concatenate the three clean datasets"
   ]
  },
  {
   "cell_type": "code",
   "execution_count": 7,
   "id": "492d06e3-92c7-4105-ac72-536db98d3244",
   "metadata": {
    "id": "492d06e3-92c7-4105-ac72-536db98d3244"
   },
   "outputs": [],
   "source": [
    "import pandas as pd\n",
    "\n",
    "# Cargar los archivos CSV\n",
    "file1 = pd.read_csv(\"https://raw.githubusercontent.com/data-bootcamp-v4/data/main/file1.csv\")\n",
    "file2 = pd.read_csv(\"https://raw.githubusercontent.com/data-bootcamp-v4/data/main/file2.csv\")\n",
    "file3 = pd.read_csv(\"https://raw.githubusercontent.com/data-bootcamp-v4/data/main/file3.csv\")\n"
   ]
  },
  {
   "cell_type": "code",
   "execution_count": 8,
   "id": "3047be1f",
   "metadata": {},
   "outputs": [],
   "source": [
    "# Función para estandarizar los nombres de las columnas\n",
    "def estandarizar_columnas(df):\n",
    "    df.columns = df.columns.str.strip().str.lower().str.replace(' ', '_')\n",
    "    return df\n",
    "\n",
    "# Aplicar la función a cada DataFrame\n",
    "file1 = estandarizar_columnas(file1)\n",
    "file2 = estandarizar_columnas(file2)\n",
    "file3 = estandarizar_columnas(file3)\n"
   ]
  },
  {
   "cell_type": "code",
   "execution_count": 9,
   "id": "1b24f46b",
   "metadata": {},
   "outputs": [],
   "source": [
    "# Combinar los tres DataFrames\n",
    "datos_combinados = pd.concat([file1, file2, file3], ignore_index=True)\n"
   ]
  },
  {
   "cell_type": "code",
   "execution_count": 10,
   "id": "91b696d6",
   "metadata": {},
   "outputs": [],
   "source": [
    "# Eliminar filas duplicadas\n",
    "datos_combinados = datos_combinados.drop_duplicates()\n",
    "\n",
    "# Eliminar filas con valores nulos\n",
    "datos_combinados = datos_combinados.dropna()\n"
   ]
  },
  {
   "cell_type": "code",
   "execution_count": 11,
   "id": "183c6705",
   "metadata": {},
   "outputs": [
    {
     "name": "stdout",
     "output_type": "stream",
     "text": [
      "Empty DataFrame\n",
      "Columns: [customer, st, gender, education, customer_lifetime_value, income, monthly_premium_auto, number_of_open_complaints, policy_type, vehicle_class, total_claim_amount, state]\n",
      "Index: []\n"
     ]
    }
   ],
   "source": [
    "# Mostrar las primeras filas del DataFrame combinado\n",
    "print(datos_combinados.head())\n"
   ]
  },
  {
   "cell_type": "code",
   "execution_count": 12,
   "id": "daf8f003",
   "metadata": {},
   "outputs": [],
   "source": [
    "# Guardar el DataFrame combinado en un archivo CSV\n",
    "datos_combinados.to_csv(\"datos_clientes_combinados.csv\", index=False)\n"
   ]
  },
  {
   "cell_type": "markdown",
   "id": "31b8a9e7-7db9-4604-991b-ef6771603e57",
   "metadata": {
    "id": "31b8a9e7-7db9-4604-991b-ef6771603e57"
   },
   "source": [
    "# Challenge 2: Structuring Data"
   ]
  },
  {
   "cell_type": "markdown",
   "id": "a877fd6d-7a0c-46d2-9657-f25036e4ca4b",
   "metadata": {
    "id": "a877fd6d-7a0c-46d2-9657-f25036e4ca4b"
   },
   "source": [
    "In this challenge, we will continue to work with customer data from an insurance company, but we will use a dataset with more columns, called marketing_customer_analysis.csv, which can be found at the following link:\n",
    "\n",
    "https://raw.githubusercontent.com/data-bootcamp-v4/data/main/marketing_customer_analysis_clean.csv\n",
    "\n",
    "This dataset contains information such as customer demographics, policy details, vehicle information, and the customer's response to the last marketing campaign. Our goal is to explore and analyze this data by performing data cleaning, formatting, and structuring."
   ]
  },
  {
   "cell_type": "code",
   "execution_count": 13,
   "id": "aa10d9b0-1c27-4d3f-a8e4-db6ab73bfd26",
   "metadata": {
    "id": "aa10d9b0-1c27-4d3f-a8e4-db6ab73bfd26"
   },
   "outputs": [
    {
     "name": "stdout",
     "output_type": "stream",
     "text": [
      "   unnamed:_0 customer       state  customer_lifetime_value response  \\\n",
      "0           0  DK49336     Arizona              4809.216960       No   \n",
      "1           1  KX64629  California              2228.525238       No   \n",
      "2           2  LZ68649  Washington             14947.917300       No   \n",
      "3           3  XL78013      Oregon             22332.439460      Yes   \n",
      "4           4  QA50777      Oregon              9025.067525       No   \n",
      "\n",
      "   coverage education effective_to_date employmentstatus gender  ...  \\\n",
      "0     Basic   College        2011-02-18         Employed      M  ...   \n",
      "1     Basic   College        2011-01-18       Unemployed      F  ...   \n",
      "2     Basic  Bachelor        2011-02-10         Employed      M  ...   \n",
      "3  Extended   College        2011-01-11         Employed      M  ...   \n",
      "4   Premium  Bachelor        2011-01-17    Medical Leave      F  ...   \n",
      "\n",
      "   number_of_policies     policy_type        policy  renew_offer_type  \\\n",
      "0                   9  Corporate Auto  Corporate L3            Offer3   \n",
      "1                   1   Personal Auto   Personal L3            Offer4   \n",
      "2                   2   Personal Auto   Personal L3            Offer3   \n",
      "3                   2  Corporate Auto  Corporate L3            Offer2   \n",
      "4                   7   Personal Auto   Personal L2            Offer1   \n",
      "\n",
      "   sales_channel  total_claim_amount  vehicle_class  vehicle_size  \\\n",
      "0          Agent          292.800000  Four-Door Car       Medsize   \n",
      "1    Call Center          744.924331  Four-Door Car       Medsize   \n",
      "2    Call Center          480.000000            SUV       Medsize   \n",
      "3         Branch          484.013411  Four-Door Car       Medsize   \n",
      "4         Branch          707.925645  Four-Door Car       Medsize   \n",
      "\n",
      "  vehicle_type month  \n",
      "0            A     2  \n",
      "1            A     1  \n",
      "2            A     2  \n",
      "3            A     1  \n",
      "4            A     1  \n",
      "\n",
      "[5 rows x 27 columns]\n"
     ]
    }
   ],
   "source": [
    "import pandas as pd\n",
    "\n",
    "# Cargar el conjunto de datos\n",
    "url = \"https://raw.githubusercontent.com/data-bootcamp-v4/data/main/marketing_customer_analysis_clean.csv\"\n",
    "df = pd.read_csv(url)\n",
    "\n",
    "# Mostrar las primeras filas del DataFrame\n",
    "print(df.head())\n"
   ]
  },
  {
   "cell_type": "code",
   "execution_count": 14,
   "id": "cc18296d",
   "metadata": {},
   "outputs": [
    {
     "name": "stdout",
     "output_type": "stream",
     "text": [
      "<class 'pandas.core.frame.DataFrame'>\n",
      "RangeIndex: 10910 entries, 0 to 10909\n",
      "Data columns (total 27 columns):\n",
      " #   Column                         Non-Null Count  Dtype  \n",
      "---  ------                         --------------  -----  \n",
      " 0   unnamed:_0                     10910 non-null  int64  \n",
      " 1   customer                       10910 non-null  object \n",
      " 2   state                          10910 non-null  object \n",
      " 3   customer_lifetime_value        10910 non-null  float64\n",
      " 4   response                       10910 non-null  object \n",
      " 5   coverage                       10910 non-null  object \n",
      " 6   education                      10910 non-null  object \n",
      " 7   effective_to_date              10910 non-null  object \n",
      " 8   employmentstatus               10910 non-null  object \n",
      " 9   gender                         10910 non-null  object \n",
      " 10  income                         10910 non-null  int64  \n",
      " 11  location_code                  10910 non-null  object \n",
      " 12  marital_status                 10910 non-null  object \n",
      " 13  monthly_premium_auto           10910 non-null  int64  \n",
      " 14  months_since_last_claim        10910 non-null  float64\n",
      " 15  months_since_policy_inception  10910 non-null  int64  \n",
      " 16  number_of_open_complaints      10910 non-null  float64\n",
      " 17  number_of_policies             10910 non-null  int64  \n",
      " 18  policy_type                    10910 non-null  object \n",
      " 19  policy                         10910 non-null  object \n",
      " 20  renew_offer_type               10910 non-null  object \n",
      " 21  sales_channel                  10910 non-null  object \n",
      " 22  total_claim_amount             10910 non-null  float64\n",
      " 23  vehicle_class                  10910 non-null  object \n",
      " 24  vehicle_size                   10910 non-null  object \n",
      " 25  vehicle_type                   10910 non-null  object \n",
      " 26  month                          10910 non-null  int64  \n",
      "dtypes: float64(4), int64(6), object(17)\n",
      "memory usage: 2.2+ MB\n",
      "None\n",
      "          unnamed:_0 customer       state  customer_lifetime_value response  \\\n",
      "count   10910.000000    10910       10910             10910.000000    10910   \n",
      "unique           NaN     9134           5                      NaN        2   \n",
      "top              NaN  ID89933  California                      NaN       No   \n",
      "freq             NaN        7        4183                      NaN     9444   \n",
      "mean     5454.500000      NaN         NaN              8018.241094      NaN   \n",
      "std      3149.590053      NaN         NaN              6885.081434      NaN   \n",
      "min         0.000000      NaN         NaN              1898.007675      NaN   \n",
      "25%      2727.250000      NaN         NaN              4014.453113      NaN   \n",
      "50%      5454.500000      NaN         NaN              5771.147235      NaN   \n",
      "75%      8181.750000      NaN         NaN              8992.779137      NaN   \n",
      "max     10909.000000      NaN         NaN             83325.381190      NaN   \n",
      "\n",
      "       coverage education effective_to_date employmentstatus gender  ...  \\\n",
      "count     10910     10910             10910            10910  10910  ...   \n",
      "unique        3         5                59                5      2  ...   \n",
      "top       Basic  Bachelor        2011-01-10         Employed      F  ...   \n",
      "freq       6660      3272               239             6789   5573  ...   \n",
      "mean        NaN       NaN               NaN              NaN    NaN  ...   \n",
      "std         NaN       NaN               NaN              NaN    NaN  ...   \n",
      "min         NaN       NaN               NaN              NaN    NaN  ...   \n",
      "25%         NaN       NaN               NaN              NaN    NaN  ...   \n",
      "50%         NaN       NaN               NaN              NaN    NaN  ...   \n",
      "75%         NaN       NaN               NaN              NaN    NaN  ...   \n",
      "max         NaN       NaN               NaN              NaN    NaN  ...   \n",
      "\n",
      "        number_of_policies    policy_type       policy  renew_offer_type  \\\n",
      "count         10910.000000          10910        10910             10910   \n",
      "unique                 NaN              3            9                 4   \n",
      "top                    NaN  Personal Auto  Personal L3            Offer1   \n",
      "freq                   NaN           8128         4118              4483   \n",
      "mean              2.979193            NaN          NaN               NaN   \n",
      "std               2.399359            NaN          NaN               NaN   \n",
      "min               1.000000            NaN          NaN               NaN   \n",
      "25%               1.000000            NaN          NaN               NaN   \n",
      "50%               2.000000            NaN          NaN               NaN   \n",
      "75%               4.000000            NaN          NaN               NaN   \n",
      "max               9.000000            NaN          NaN               NaN   \n",
      "\n",
      "        sales_channel  total_claim_amount  vehicle_class  vehicle_size  \\\n",
      "count           10910        10910.000000          10910         10910   \n",
      "unique              4                 NaN              6             3   \n",
      "top             Agent                 NaN  Four-Door Car       Medsize   \n",
      "freq             4121                 NaN           5834          7873   \n",
      "mean              NaN          434.888330            NaN           NaN   \n",
      "std               NaN          292.180556            NaN           NaN   \n",
      "min               NaN            0.099007            NaN           NaN   \n",
      "25%               NaN          271.082527            NaN           NaN   \n",
      "50%               NaN          382.564630            NaN           NaN   \n",
      "75%               NaN          547.200000            NaN           NaN   \n",
      "max               NaN         2893.239678            NaN           NaN   \n",
      "\n",
      "       vehicle_type         month  \n",
      "count         10910  10910.000000  \n",
      "unique            1           NaN  \n",
      "top               A           NaN  \n",
      "freq          10910           NaN  \n",
      "mean            NaN      1.466728  \n",
      "std             NaN      0.498915  \n",
      "min             NaN      1.000000  \n",
      "25%             NaN      1.000000  \n",
      "50%             NaN      1.000000  \n",
      "75%             NaN      2.000000  \n",
      "max             NaN      2.000000  \n",
      "\n",
      "[11 rows x 27 columns]\n"
     ]
    }
   ],
   "source": [
    "# Información general del DataFrame\n",
    "print(df.info())\n",
    "\n",
    "# Estadísticas descriptivas\n",
    "print(df.describe(include='all'))\n"
   ]
  },
  {
   "cell_type": "code",
   "execution_count": 15,
   "id": "65301290",
   "metadata": {},
   "outputs": [
    {
     "ename": "KeyError",
     "evalue": "'State'",
     "output_type": "error",
     "traceback": [
      "\u001b[0;31m---------------------------------------------------------------------------\u001b[0m",
      "\u001b[0;31mKeyError\u001b[0m                                  Traceback (most recent call last)",
      "File \u001b[0;32m/opt/anaconda3/lib/python3.12/site-packages/pandas/core/indexes/base.py:3805\u001b[0m, in \u001b[0;36mIndex.get_loc\u001b[0;34m(self, key)\u001b[0m\n\u001b[1;32m   3804\u001b[0m \u001b[38;5;28;01mtry\u001b[39;00m:\n\u001b[0;32m-> 3805\u001b[0m     \u001b[38;5;28;01mreturn\u001b[39;00m \u001b[38;5;28mself\u001b[39m\u001b[38;5;241m.\u001b[39m_engine\u001b[38;5;241m.\u001b[39mget_loc(casted_key)\n\u001b[1;32m   3806\u001b[0m \u001b[38;5;28;01mexcept\u001b[39;00m \u001b[38;5;167;01mKeyError\u001b[39;00m \u001b[38;5;28;01mas\u001b[39;00m err:\n",
      "File \u001b[0;32mindex.pyx:167\u001b[0m, in \u001b[0;36mpandas._libs.index.IndexEngine.get_loc\u001b[0;34m()\u001b[0m\n",
      "File \u001b[0;32mindex.pyx:196\u001b[0m, in \u001b[0;36mpandas._libs.index.IndexEngine.get_loc\u001b[0;34m()\u001b[0m\n",
      "File \u001b[0;32mpandas/_libs/hashtable_class_helper.pxi:7081\u001b[0m, in \u001b[0;36mpandas._libs.hashtable.PyObjectHashTable.get_item\u001b[0;34m()\u001b[0m\n",
      "File \u001b[0;32mpandas/_libs/hashtable_class_helper.pxi:7089\u001b[0m, in \u001b[0;36mpandas._libs.hashtable.PyObjectHashTable.get_item\u001b[0;34m()\u001b[0m\n",
      "\u001b[0;31mKeyError\u001b[0m: 'State'",
      "\nThe above exception was the direct cause of the following exception:\n",
      "\u001b[0;31mKeyError\u001b[0m                                  Traceback (most recent call last)",
      "Cell \u001b[0;32mIn[15], line 2\u001b[0m\n\u001b[1;32m      1\u001b[0m \u001b[38;5;66;03m# Número de clientes por estado\u001b[39;00m\n\u001b[0;32m----> 2\u001b[0m clientes_por_estado \u001b[38;5;241m=\u001b[39m df[\u001b[38;5;124m'\u001b[39m\u001b[38;5;124mState\u001b[39m\u001b[38;5;124m'\u001b[39m]\u001b[38;5;241m.\u001b[39mvalue_counts()\n\u001b[1;32m      3\u001b[0m \u001b[38;5;28mprint\u001b[39m(clientes_por_estado)\n",
      "File \u001b[0;32m/opt/anaconda3/lib/python3.12/site-packages/pandas/core/frame.py:4102\u001b[0m, in \u001b[0;36mDataFrame.__getitem__\u001b[0;34m(self, key)\u001b[0m\n\u001b[1;32m   4100\u001b[0m \u001b[38;5;28;01mif\u001b[39;00m \u001b[38;5;28mself\u001b[39m\u001b[38;5;241m.\u001b[39mcolumns\u001b[38;5;241m.\u001b[39mnlevels \u001b[38;5;241m>\u001b[39m \u001b[38;5;241m1\u001b[39m:\n\u001b[1;32m   4101\u001b[0m     \u001b[38;5;28;01mreturn\u001b[39;00m \u001b[38;5;28mself\u001b[39m\u001b[38;5;241m.\u001b[39m_getitem_multilevel(key)\n\u001b[0;32m-> 4102\u001b[0m indexer \u001b[38;5;241m=\u001b[39m \u001b[38;5;28mself\u001b[39m\u001b[38;5;241m.\u001b[39mcolumns\u001b[38;5;241m.\u001b[39mget_loc(key)\n\u001b[1;32m   4103\u001b[0m \u001b[38;5;28;01mif\u001b[39;00m is_integer(indexer):\n\u001b[1;32m   4104\u001b[0m     indexer \u001b[38;5;241m=\u001b[39m [indexer]\n",
      "File \u001b[0;32m/opt/anaconda3/lib/python3.12/site-packages/pandas/core/indexes/base.py:3812\u001b[0m, in \u001b[0;36mIndex.get_loc\u001b[0;34m(self, key)\u001b[0m\n\u001b[1;32m   3807\u001b[0m     \u001b[38;5;28;01mif\u001b[39;00m \u001b[38;5;28misinstance\u001b[39m(casted_key, \u001b[38;5;28mslice\u001b[39m) \u001b[38;5;129;01mor\u001b[39;00m (\n\u001b[1;32m   3808\u001b[0m         \u001b[38;5;28misinstance\u001b[39m(casted_key, abc\u001b[38;5;241m.\u001b[39mIterable)\n\u001b[1;32m   3809\u001b[0m         \u001b[38;5;129;01mand\u001b[39;00m \u001b[38;5;28many\u001b[39m(\u001b[38;5;28misinstance\u001b[39m(x, \u001b[38;5;28mslice\u001b[39m) \u001b[38;5;28;01mfor\u001b[39;00m x \u001b[38;5;129;01min\u001b[39;00m casted_key)\n\u001b[1;32m   3810\u001b[0m     ):\n\u001b[1;32m   3811\u001b[0m         \u001b[38;5;28;01mraise\u001b[39;00m InvalidIndexError(key)\n\u001b[0;32m-> 3812\u001b[0m     \u001b[38;5;28;01mraise\u001b[39;00m \u001b[38;5;167;01mKeyError\u001b[39;00m(key) \u001b[38;5;28;01mfrom\u001b[39;00m \u001b[38;5;21;01merr\u001b[39;00m\n\u001b[1;32m   3813\u001b[0m \u001b[38;5;28;01mexcept\u001b[39;00m \u001b[38;5;167;01mTypeError\u001b[39;00m:\n\u001b[1;32m   3814\u001b[0m     \u001b[38;5;66;03m# If we have a listlike key, _check_indexing_error will raise\u001b[39;00m\n\u001b[1;32m   3815\u001b[0m     \u001b[38;5;66;03m#  InvalidIndexError. Otherwise we fall through and re-raise\u001b[39;00m\n\u001b[1;32m   3816\u001b[0m     \u001b[38;5;66;03m#  the TypeError.\u001b[39;00m\n\u001b[1;32m   3817\u001b[0m     \u001b[38;5;28mself\u001b[39m\u001b[38;5;241m.\u001b[39m_check_indexing_error(key)\n",
      "\u001b[0;31mKeyError\u001b[0m: 'State'"
     ]
    }
   ],
   "source": [
    "# Número de clientes por estado\n",
    "clientes_por_estado = df['State'].value_counts()\n",
    "print(clientes_por_estado)\n"
   ]
  },
  {
   "cell_type": "code",
   "execution_count": 16,
   "id": "c9e0778c",
   "metadata": {},
   "outputs": [
    {
     "name": "stdout",
     "output_type": "stream",
     "text": [
      "Index(['unnamed:_0', 'customer', 'state', 'customer_lifetime_value',\n",
      "       'response', 'coverage', 'education', 'effective_to_date',\n",
      "       'employmentstatus', 'gender', 'income', 'location_code',\n",
      "       'marital_status', 'monthly_premium_auto', 'months_since_last_claim',\n",
      "       'months_since_policy_inception', 'number_of_open_complaints',\n",
      "       'number_of_policies', 'policy_type', 'policy', 'renew_offer_type',\n",
      "       'sales_channel', 'total_claim_amount', 'vehicle_class', 'vehicle_size',\n",
      "       'vehicle_type', 'month'],\n",
      "      dtype='object')\n"
     ]
    }
   ],
   "source": [
    "print(df.columns)\n"
   ]
  },
  {
   "cell_type": "code",
   "execution_count": 17,
   "id": "522c463e",
   "metadata": {},
   "outputs": [],
   "source": [
    "df.columns = df.columns.str.strip().str.lower().str.replace(' ', '_')\n"
   ]
  },
  {
   "cell_type": "code",
   "execution_count": 18,
   "id": "f527e928",
   "metadata": {},
   "outputs": [
    {
     "name": "stdout",
     "output_type": "stream",
     "text": [
      "state\n",
      "California    4183\n",
      "Oregon        2909\n",
      "Arizona       1937\n",
      "Nevada         993\n",
      "Washington     888\n",
      "Name: count, dtype: int64\n"
     ]
    }
   ],
   "source": [
    "clientes_por_estado = df['state'].value_counts()\n",
    "print(clientes_por_estado)\n"
   ]
  },
  {
   "cell_type": "code",
   "execution_count": 19,
   "id": "d7580e54",
   "metadata": {},
   "outputs": [
    {
     "data": {
      "image/png": "[encoded data removed]",
      "text/plain": [
       "<Figure size 1000x600 with 1 Axes>"
      ]
     },
     "metadata": {},
     "output_type": "display_data"
    }
   ],
   "source": [
    "import matplotlib.pyplot as plt\n",
    "\n",
    "clientes_por_estado.plot(kind='bar', figsize=(10,6))\n",
    "plt.title('Número de Clientes por Estado')\n",
    "plt.xlabel('Estado')\n",
    "plt.ylabel('Número de Clientes')\n",
    "plt.show()\n"
   ]
  },
  {
   "cell_type": "code",
   "execution_count": 20,
   "id": "a900b3f7",
   "metadata": {},
   "outputs": [
    {
     "name": "stdout",
     "output_type": "stream",
     "text": [
      "state\n",
      "California    4183\n",
      "Oregon        2909\n",
      "Arizona       1937\n",
      "Nevada         993\n",
      "Washington     888\n",
      "Name: count, dtype: int64\n"
     ]
    }
   ],
   "source": [
    "# Contar el número de clientes por estado\n",
    "clientes_por_estado = df['state'].value_counts()\n",
    "print(clientes_por_estado)\n"
   ]
  },
  {
   "cell_type": "code",
   "execution_count": 21,
   "id": "43ff3a39",
   "metadata": {},
   "outputs": [
    {
     "data": {
      "image/png": "[encoded data removed]",
      "text/plain": [
       "<Figure size 1000x600 with 1 Axes>"
      ]
     },
     "metadata": {},
     "output_type": "display_data"
    }
   ],
   "source": [
    "import matplotlib.pyplot as plt\n",
    "\n",
    "# Crear un gráfico de barras para visualizar el número de clientes por estado\n",
    "clientes_por_estado.plot(kind='bar', figsize=(10,6))\n",
    "plt.title('Número de Clientes por Estado')\n",
    "plt.xlabel('Estado')\n",
    "plt.ylabel('Número de Clientes')\n",
    "plt.show()\n"
   ]
  },
  {
   "cell_type": "markdown",
   "id": "751d6900",
   "metadata": {},
   "source": [
    "1. You work at the marketing department and you want to know which sales channel brought the most sales in terms of total revenue. Using pivot, create a summary table showing the total revenue for each sales channel (branch, call center, web, and mail).\n",
    "Round the total revenue to 2 decimal points.  Analyze the resulting table to draw insights."
   ]
  },
  {
   "cell_type": "code",
   "execution_count": 22,
   "id": "ad3a823b",
   "metadata": {},
   "outputs": [
    {
     "name": "stdout",
     "output_type": "stream",
     "text": [
      "               total_claim_amount\n",
      "sales_channel                    \n",
      "Agent                  1810226.82\n",
      "Branch                 1301204.00\n",
      "Call Center             926600.82\n",
      "Web                     706600.04\n"
     ]
    }
   ],
   "source": [
    "# Tabla dinámica: ingreso total por canal de ventas\n",
    "pivot_ingresos = df.pivot_table(values='total_claim_amount',\n",
    "                                 index='sales_channel',\n",
    "                                 aggfunc='sum')\n",
    "\n",
    "# Redondear a 2 decimales\n",
    "pivot_ingresos = pivot_ingresos.round(2)\n",
    "\n",
    "# Mostrar tabla ordenada\n",
    "print(pivot_ingresos.sort_values(by='total_claim_amount', ascending=False))\n"
   ]
  },
  {
   "cell_type": "markdown",
   "id": "1ab533ef",
   "metadata": {},
   "source": [
    "2. Create a pivot table that shows the average customer lifetime value per gender and education level. Analyze the resulting table to draw insights."
   ]
  },
  {
   "cell_type": "code",
   "execution_count": 23,
   "id": "198c88f6",
   "metadata": {},
   "outputs": [
    {
     "name": "stdout",
     "output_type": "stream",
     "text": [
      "education  Bachelor  College   Doctor  High School or Below   Master\n",
      "gender                                                              \n",
      "F           7874.27  7748.82  7328.51               8675.22  8157.05\n",
      "M           7703.60  8052.46  7415.33               8149.69  8168.83\n"
     ]
    }
   ],
   "source": [
    "# Tabla dinámica: promedio de customer lifetime value por género y educación\n",
    "pivot_clv = df.pivot_table(values='customer_lifetime_value',\n",
    "                           index='gender',\n",
    "                           columns='education',\n",
    "                           aggfunc='mean')\n",
    "\n",
    "# Redondear a 2 decimales\n",
    "pivot_clv = pivot_clv.round(2)\n",
    "\n",
    "print(pivot_clv)\n"
   ]
  },
  {
   "cell_type": "markdown",
   "id": "32c7f2e5-3d90-43e5-be33-9781b6069198",
   "metadata": {
    "id": "32c7f2e5-3d90-43e5-be33-9781b6069198"
   },
   "source": [
    "## Bonus\n",
    "\n",
    "You work at the customer service department and you want to know which months had the highest number of complaints by policy type category. Create a summary table showing the number of complaints by policy type and month.\n",
    "Show it in a long format table."
   ]
  },
  {
   "cell_type": "markdown",
   "id": "e3d09a8f-953c-448a-a5f8-2e5a8cca7291",
   "metadata": {
    "id": "e3d09a8f-953c-448a-a5f8-2e5a8cca7291"
   },
   "source": [
    "*In data analysis, a long format table is a way of structuring data in which each observation or measurement is stored in a separate row of the table. The key characteristic of a long format table is that each column represents a single variable, and each row represents a single observation of that variable.*\n",
    "\n",
    "*More information about long and wide format tables here: https://www.statology.org/long-vs-wide-data/*"
   ]
  },
  {
   "cell_type": "code",
   "execution_count": 24,
   "id": "3a069e0b-b400-470e-904d-d17582191be4",
   "metadata": {
    "id": "3a069e0b-b400-470e-904d-d17582191be4"
   },
   "outputs": [],
   "source": [
    "# Convertir columna de fecha y extraer el mes\n",
    "df['effective_to_date'] = pd.to_datetime(df['effective_to_date'])\n",
    "df['month'] = df['effective_to_date'].dt.month\n"
   ]
  },
  {
   "cell_type": "code",
   "execution_count": 25,
   "id": "839f0345",
   "metadata": {},
   "outputs": [
    {
     "name": "stdout",
     "output_type": "stream",
     "text": [
      "   month     policy_type  number_of_open_complaints\n",
      "0      1  Corporate Auto                 443.434952\n",
      "1      1   Personal Auto                1727.605722\n",
      "2      1    Special Auto                  87.074049\n",
      "3      2  Corporate Auto                 385.208135\n",
      "4      2   Personal Auto                1453.684441\n",
      "5      2    Special Auto                  95.226817\n"
     ]
    }
   ],
   "source": [
    "# Tabla resumen de quejas por tipo de póliza y mes\n",
    "complaints_summary = df.pivot_table(values='number_of_open_complaints',\n",
    "                                    index=['month', 'policy_type'],\n",
    "                                    aggfunc='sum').reset_index()\n",
    "\n",
    "print(complaints_summary)\n"
   ]
  },
  {
   "cell_type": "code",
   "execution_count": null,
   "id": "963cbedd",
   "metadata": {},
   "outputs": [],
   "source": []
  }
 ],
 "metadata": {
  "colab": {
   "provenance": []
  },
  "kernelspec": {
   "display_name": "base",
   "language": "python",
   "name": "python3"
  },
  "language_info": {
   "codemirror_mode": {
    "name": "ipython",
    "version": 3
   },
   "file_extension": ".py",
   "mimetype": "text/x-python",
   "name": "python",
   "nbconvert_exporter": "python",
   "pygments_lexer": "ipython3",
   "version": "3.12.7"
  }
 },
 "nbformat": 4,
 "nbformat_minor": 5
}
